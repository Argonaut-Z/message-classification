{
 "cells": [
  {
   "cell_type": "code",
   "execution_count": 1,
   "metadata": {},
   "outputs": [
    {
     "name": "stdout",
     "output_type": "stream",
     "text": [
      "id_to_label: {0: 'finance', 1: 'realty', 2: 'stocks', 3: 'education', 4: 'science', 5: 'society', 6: 'politics', 7: 'sports', 8: 'game', 9: 'entertainment'}\n"
     ]
    }
   ],
   "source": [
    "import os\n",
    "import sys\n",
    "import jieba\n",
    "\n",
    "id_to_label = {}\n",
    "\n",
    "idx = 0\n",
    "with open('class.txt', 'r', encoding='utf-8') as f1:\n",
    "    for line in f1.readlines():\n",
    "        line = line.strip('\\n').strip()\n",
    "        id_to_label[idx] = line\n",
    "        idx += 1\n",
    "print('id_to_label:', id_to_label)"
   ]
  },
  {
   "cell_type": "code",
   "execution_count": 2,
   "metadata": {},
   "outputs": [
    {
     "name": "stdout",
     "output_type": "stream",
     "text": [
      "中华女子学院：本科层次仅1专业招男生\n",
      "3\n",
      "中 华 女 子 学 院 ： 本 科 层 次 仅 1 专 业 招 男 生\n"
     ]
    }
   ],
   "source": [
    "with open('train.txt', 'r', encoding='utf-8') as f:\n",
    "    for line in f.readlines():\n",
    "        line = line.strip('\\n').strip()\n",
    "        sentence, label = line.split('\\t')\n",
    "        print(sentence)\n",
    "        print(label)\n",
    "        sent_char = ' '.join(list(sentence))\n",
    "        print(sent_char)\n",
    "        break"
   ]
  },
  {
   "cell_type": "code",
   "execution_count": 3,
   "metadata": {},
   "outputs": [
    {
     "name": "stdout",
     "output_type": "stream",
     "text": [
      "count= 10000\n",
      "count= 20000\n",
      "count= 30000\n",
      "count= 40000\n",
      "count= 50000\n",
      "count= 60000\n",
      "count= 70000\n",
      "count= 80000\n",
      "count= 90000\n",
      "count= 100000\n",
      "count= 110000\n",
      "count= 120000\n",
      "count= 130000\n",
      "count= 140000\n",
      "count= 150000\n",
      "count= 160000\n",
      "count= 170000\n",
      "count= 180000\n",
      "FastText训练数据预处理完毕\n"
     ]
    }
   ],
   "source": [
    "count = 0\n",
    "train_data = []\n",
    "with open('train.txt', 'r', encoding='utf-8') as f2:\n",
    "    for line in f2.readlines():\n",
    "        line = line.strip('\\n').strip()\n",
    "        sentence, label = line.split('\\t')\n",
    "        \n",
    "        # 1.首先处理标签部分\n",
    "        label_id = int(label)\n",
    "        label_name = id_to_label[label_id]\n",
    "        new_label = '__label__' + label_name\n",
    "        \n",
    "        # 2.然后处理文本部分，为了便于后续增加n-gram特性，可以按照字划分，也可以按词划分\n",
    "        sent_char = ' '.join(list(sentence))\n",
    "        \n",
    "        # 3.将文本和标签组合成fasttext规定的格式\n",
    "        new_sentence = new_label + ' ' + sent_char\n",
    "        train_data.append(new_sentence)\n",
    "        \n",
    "        count += 1\n",
    "        if count % 10000 == 0:\n",
    "            print('count=', count)\n",
    "\n",
    "with open('train_fast.txt', 'w', encoding='utf-8') as f3:\n",
    "    for data in train_data:\n",
    "        f3.write(data + '\\n')\n",
    "print('FastText训练数据预处理完毕')        "
   ]
  },
  {
   "cell_type": "code",
   "execution_count": 4,
   "metadata": {},
   "outputs": [
    {
     "name": "stdout",
     "output_type": "stream",
     "text": [
      "count= 10000\n",
      "FastText测试数据预处理完毕\n"
     ]
    }
   ],
   "source": [
    "count = 0\n",
    "test_data = []\n",
    "with open('test.txt', 'r', encoding='utf-8') as f:\n",
    "    for line in f.readlines():\n",
    "        line = line.strip('\\n').strip()\n",
    "        sentence, label = line.split('\\t')\n",
    "        \n",
    "        # 1.首先处理标签部分\n",
    "        label_id = int(label)\n",
    "        label_name = id_to_label[label_id]\n",
    "        new_label = '__label__' + label_name\n",
    "        \n",
    "        # 2.然后处理文本部分，为了便于后续增加n-gram特性，可以按照字划分，也可以按词划分\n",
    "        sent_char = ' '.join(list(sentence))\n",
    "        \n",
    "        # 3.将文本和标签组合成fasttext规定的格式\n",
    "        new_sentence = new_label + ' ' + sent_char\n",
    "        test_data.append(new_sentence)\n",
    "        \n",
    "        count += 1\n",
    "        if count % 10000 == 0:\n",
    "            print('count=', count)\n",
    "\n",
    "with open('test_fast.txt', 'w', encoding='utf-8') as f:\n",
    "    for data in test_data:\n",
    "        f.write(data + '\\n')\n",
    "print('FastText测试数据预处理完毕')    "
   ]
  },
  {
   "cell_type": "code",
   "execution_count": null,
   "metadata": {},
   "outputs": [],
   "source": []
  }
 ],
 "metadata": {
  "kernelspec": {
   "display_name": "pytorch",
   "language": "python",
   "name": "cpupytorch"
  },
  "language_info": {
   "codemirror_mode": {
    "name": "ipython",
    "version": 3
   },
   "file_extension": ".py",
   "mimetype": "text/x-python",
   "name": "python",
   "nbconvert_exporter": "python",
   "pygments_lexer": "ipython3",
   "version": "3.9.19"
  }
 },
 "nbformat": 4,
 "nbformat_minor": 2
}
