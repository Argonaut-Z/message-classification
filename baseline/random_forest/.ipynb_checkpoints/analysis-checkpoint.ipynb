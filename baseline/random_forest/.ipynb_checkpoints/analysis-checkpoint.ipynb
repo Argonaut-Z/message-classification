{
 "cells": [
  {
   "cell_type": "markdown",
   "metadata": {},
   "source": [
    "## 数据分析和预处理"
   ]
  },
  {
   "cell_type": "markdown",
   "metadata": {},
   "source": [
    "### 1. 读取数据并统计分类数量"
   ]
  },
  {
   "cell_type": "code",
   "execution_count": 1,
   "metadata": {
    "execution": {
     "iopub.execute_input": "2024-12-27T02:47:29.823286Z",
     "iopub.status.busy": "2024-12-27T02:47:29.822988Z",
     "iopub.status.idle": "2024-12-27T02:47:30.507228Z",
     "shell.execute_reply": "2024-12-27T02:47:30.506743Z",
     "shell.execute_reply.started": "2024-12-27T02:47:29.823267Z"
    },
    "tags": []
   },
   "outputs": [
    {
     "name": "stdout",
     "output_type": "stream",
     "text": [
      "                    sentence  label\n",
      "0         中华女子学院：本科层次仅1专业招男生      3\n",
      "1     两天价网站背后重重迷雾：做个网站究竟要多少钱      4\n",
      "2  东5环海棠公社230-290平2居准现房98折优惠      1\n",
      "3  卡佩罗：告诉你德国脚生猛的原因 不希望英德战踢点球      7\n",
      "4    82岁老太为学生做饭扫地44年获授港大荣誉院士      5\n",
      "5       记者回访地震中可乐男孩：将受邀赴美国参观      5\n",
      "6          冯德伦徐若�隔空传情 默认其是女友      9\n",
      "7     传郭晶晶欲落户香港战伦敦奥运 装修别墅当婚房      1\n",
      "8           《赤壁OL》攻城战诸侯战硝烟又起      8\n",
      "9                “手机钱包”亮相科博会      4\n",
      "180000\n"
     ]
    }
   ],
   "source": [
    "import numpy as np\n",
    "import pandas as pd\n",
    "from collections import Counter\n",
    "import jieba\n",
    "\n",
    "content = pd.read_csv('../data/train.txt', sep='\\t', header=None)\n",
    "content.columns = ['sentence', 'label']\n",
    "print(content.head(10))\n",
    "print(len(content))"
   ]
  },
  {
   "cell_type": "code",
   "execution_count": 2,
   "metadata": {
    "execution": {
     "iopub.execute_input": "2024-12-27T02:47:32.864136Z",
     "iopub.status.busy": "2024-12-27T02:47:32.863852Z",
     "iopub.status.idle": "2024-12-27T02:47:32.896673Z",
     "shell.execute_reply": "2024-12-27T02:47:32.896108Z",
     "shell.execute_reply.started": "2024-12-27T02:47:32.864114Z"
    },
    "tags": []
   },
   "outputs": [
    {
     "name": "stdout",
     "output_type": "stream",
     "text": [
      "Counter({3: 18000, 4: 18000, 1: 18000, 7: 18000, 5: 18000, 9: 18000, 8: 18000, 2: 18000, 6: 18000, 0: 18000})\n",
      "10\n"
     ]
    }
   ],
   "source": [
    "count = Counter(content.label.values)\n",
    "print(count)\n",
    "print(len(count))"
   ]
  },
  {
   "cell_type": "markdown",
   "metadata": {},
   "source": [
    "### 2. 分析样本分布"
   ]
  },
  {
   "cell_type": "code",
   "execution_count": 3,
   "metadata": {
    "execution": {
     "iopub.execute_input": "2024-12-27T02:47:34.856555Z",
     "iopub.status.busy": "2024-12-27T02:47:34.856207Z",
     "iopub.status.idle": "2024-12-27T02:47:34.907469Z",
     "shell.execute_reply": "2024-12-27T02:47:34.906987Z",
     "shell.execute_reply.started": "2024-12-27T02:47:34.856530Z"
    },
    "tags": []
   },
   "outputs": [
    {
     "name": "stdout",
     "output_type": "stream",
     "text": [
      "180000\n",
      "3 10.0 %\n",
      "4 10.0 %\n",
      "1 10.0 %\n",
      "7 10.0 %\n",
      "5 10.0 %\n",
      "9 10.0 %\n",
      "8 10.0 %\n",
      "2 10.0 %\n",
      "6 10.0 %\n",
      "0 10.0 %\n",
      "                    sentence  label  sentence_len\n",
      "0         中华女子学院：本科层次仅1专业招男生      3            18\n",
      "1     两天价网站背后重重迷雾：做个网站究竟要多少钱      4            22\n",
      "2  东5环海棠公社230-290平2居准现房98折优惠      1            25\n",
      "3  卡佩罗：告诉你德国脚生猛的原因 不希望英德战踢点球      7            25\n",
      "4    82岁老太为学生做饭扫地44年获授港大荣誉院士      5            23\n",
      "5       记者回访地震中可乐男孩：将受邀赴美国参观      5            20\n",
      "6          冯德伦徐若�隔空传情 默认其是女友      9            17\n",
      "7     传郭晶晶欲落户香港战伦敦奥运 装修别墅当婚房      1            22\n",
      "8           《赤壁OL》攻城战诸侯战硝烟又起      8            16\n",
      "9                “手机钱包”亮相科博会      4            11\n",
      "length_mean =  19.21257222222222\n",
      "length_std =  3.8637872533601523\n"
     ]
    }
   ],
   "source": [
    "total = 0\n",
    "for i, v in count.items():\n",
    "    # print(i, v)\n",
    "    total += v\n",
    "print(total)\n",
    "\n",
    "for i, v in count.items():\n",
    "    print(i, v / total * 100, '%')\n",
    "\n",
    "content['sentence_len'] = content['sentence'].apply(len)\n",
    "print(content.head(10))\n",
    "\n",
    "length_mean = np.mean(content['sentence_len'])\n",
    "length_std = np.std(content['sentence_len'])\n",
    "print('length_mean = ', length_mean)\n",
    "print('length_std = ', length_std)"
   ]
  },
  {
   "cell_type": "markdown",
   "metadata": {},
   "source": [
    "### 3. 分词处理"
   ]
  },
  {
   "cell_type": "code",
   "execution_count": 4,
   "metadata": {
    "execution": {
     "iopub.execute_input": "2024-12-27T02:47:36.800382Z",
     "iopub.status.busy": "2024-12-27T02:47:36.800058Z",
     "iopub.status.idle": "2024-12-27T02:47:50.008616Z",
     "shell.execute_reply": "2024-12-27T02:47:50.008091Z",
     "shell.execute_reply.started": "2024-12-27T02:47:36.800363Z"
    },
    "tags": []
   },
   "outputs": [
    {
     "name": "stderr",
     "output_type": "stream",
     "text": [
      "Building prefix dict from the default dictionary ...\n",
      "Dumping model to file cache /tmp/jieba.cache\n",
      "Loading model cost 0.626 seconds.\n",
      "Prefix dict has been built successfully.\n"
     ]
    },
    {
     "name": "stdout",
     "output_type": "stream",
     "text": [
      "0      中华 女子 学院 ： 本科 层次 仅 1 专业 招 男生\n",
      "1    两天 价 网站 背后 重重 迷雾 ： 做个 网站 究竟 要 \n",
      "2    东 5 环 海棠 公社 230 - 290 平 2 居 准现\n",
      "3    卡佩罗 ： 告诉 你 德国 脚 生猛 的 原因 不 希望 英\n",
      "4    82 岁 老太 为 学生 做饭 扫地 44 年 获授 港大 \n",
      "Name: words, dtype: object\n"
     ]
    }
   ],
   "source": [
    "def cut_sentence(s):\n",
    "    return list(jieba.cut(s))\n",
    "\n",
    "# content['words'] = content['sentence'].apply(cut_sentence)\n",
    "content['words'] = content['sentence'].apply(lambda s: ' '.join(cut_sentence(s)))\n",
    "content['words'] = content['words'].apply(lambda s: ' '.join(s.split())[:30])\n",
    "print(content['words'].head())"
   ]
  },
  {
   "cell_type": "code",
   "execution_count": 6,
   "metadata": {},
   "outputs": [],
   "source": [
    "content.to_csv('../data/train_new.csv')"
   ]
  },
  {
   "cell_type": "markdown",
   "metadata": {},
   "source": [
    "### 4.处理验证集和测试集"
   ]
  },
  {
   "cell_type": "code",
   "execution_count": 5,
   "metadata": {
    "execution": {
     "iopub.execute_input": "2024-12-27T02:47:50.009621Z",
     "iopub.status.busy": "2024-12-27T02:47:50.009353Z",
     "iopub.status.idle": "2024-12-27T02:47:51.441872Z",
     "shell.execute_reply": "2024-12-27T02:47:51.441380Z",
     "shell.execute_reply.started": "2024-12-27T02:47:50.009600Z"
    },
    "tags": []
   },
   "outputs": [
    {
     "name": "stdout",
     "output_type": "stream",
     "text": [
      "                  sentence  label                           words\n",
      "0   词汇阅读是关键 08年考研暑期英语复习全指南      3  词汇 阅读 是 关键 08 年 考研 暑期 英语 复习 全 \n",
      "1  中国人民公安大学2012年硕士研究生目录及书目      3  中国 人民 公安大学 2012 年 硕士 研究生 目录 及 \n",
      "2       日本地震：金吉列关注在日学子系列报道      3      日本 地震 ： 金吉列 关注 在 日 学子 系列报道\n",
      "3    名师辅导：2012考研英语虚拟语气三种用法      3   名师 辅导 ： 2012 考研 英语 虚拟语气 三种 用法\n",
      "4        自考经验谈：自考生毕业论文选题技巧      3        自考 经验谈 ： 自 考生 毕业论文 选题 技巧\n",
      "             sentence  label                      words\n",
      "0  体验2D巅峰 倚天屠龙记十大创新概览      8   体验 2D 巅峰 倚天 屠龙记 十大 创新 概览\n",
      "1   60年铁树开花形状似玉米芯(组图)      5  60 年 铁树开花 形状 似 玉米芯 ( 组图 )\n",
      "2       同步A股首秀：港股缩量回调      2        同步 A股 首秀 ： 港股 缩量 回调\n",
      "3   中青宝sg现场抓拍 兔子舞热辣表演      8    中青宝 sg 现场 抓拍 兔子 舞 热辣 表演\n",
      "4            锌价难续去年辉煌      0                锌 价难续 去年 辉煌\n"
     ]
    }
   ],
   "source": [
    "def data_process(filepath):\n",
    "    content = pd.read_csv(filepath, sep='\\t', header=None)\n",
    "    content.columns = ['sentence', 'label']\n",
    "    content['words'] = content['sentence'].apply(lambda s: ' '.join(cut_sentence(s)))\n",
    "    content['words'] = content['words'].apply(lambda s: ' '.join(s.split())[:30])\n",
    "    return content\n",
    "\n",
    "test_data = data_process('../data/test.txt')\n",
    "print(test_data.head())\n",
    "val_data = data_process('../data/dev.txt')\n",
    "print(val_data.head())"
   ]
  },
  {
   "cell_type": "code",
   "execution_count": 6,
   "metadata": {
    "execution": {
     "iopub.execute_input": "2024-12-27T02:47:57.303864Z",
     "iopub.status.busy": "2024-12-27T02:47:57.303551Z",
     "iopub.status.idle": "2024-12-27T02:47:57.428377Z",
     "shell.execute_reply": "2024-12-27T02:47:57.427723Z",
     "shell.execute_reply.started": "2024-12-27T02:47:57.303845Z"
    },
    "tags": []
   },
   "outputs": [],
   "source": [
    "test_data.to_csv('../data/test_new.csv')\n",
    "val_data.to_csv('../data/dev_new.csv')"
   ]
  },
  {
   "cell_type": "code",
   "execution_count": null,
   "metadata": {},
   "outputs": [],
   "source": []
  }
 ],
 "metadata": {
  "kernelspec": {
   "display_name": "Python 3 (ipykernel)",
   "language": "python",
   "name": "python3"
  },
  "language_info": {
   "codemirror_mode": {
    "name": "ipython",
    "version": 3
   },
   "file_extension": ".py",
   "mimetype": "text/x-python",
   "name": "python",
   "nbconvert_exporter": "python",
   "pygments_lexer": "ipython3",
   "version": "3.10.14"
  }
 },
 "nbformat": 4,
 "nbformat_minor": 4
}
