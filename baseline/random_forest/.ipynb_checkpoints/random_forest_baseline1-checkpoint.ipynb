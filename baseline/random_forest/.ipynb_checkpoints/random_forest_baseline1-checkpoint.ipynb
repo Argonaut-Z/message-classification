{
 "cells": [
  {
   "cell_type": "code",
   "execution_count": 1,
   "metadata": {
    "execution": {
     "iopub.execute_input": "2024-12-27T02:50:50.358053Z",
     "iopub.status.busy": "2024-12-27T02:50:50.357766Z",
     "iopub.status.idle": "2024-12-27T02:50:51.215271Z",
     "shell.execute_reply": "2024-12-27T02:50:51.214629Z",
     "shell.execute_reply.started": "2024-12-27T02:50:50.358037Z"
    }
   },
   "outputs": [],
   "source": [
    "from sklearn.feature_extraction.text import TfidfVectorizer\n",
    "from sklearn.model_selection import train_test_split\n",
    "from sklearn.ensemble import RandomForestClassifier\n",
    "import pandas as pd\n",
    "from icecream import ic\n",
    "from sklearn.metrics import accuracy_score\n",
    "from sklearn.metrics import recall_score\n",
    "from sklearn.metrics import precision_score\n",
    "from sklearn.metrics import f1_score"
   ]
  },
  {
   "cell_type": "code",
   "execution_count": 2,
   "metadata": {
    "ExecutionIndicator": {
     "show": true
    },
    "execution": {
     "iopub.execute_input": "2024-12-27T02:50:51.216581Z",
     "iopub.status.busy": "2024-12-27T02:50:51.216266Z",
     "iopub.status.idle": "2024-12-27T02:50:51.657080Z",
     "shell.execute_reply": "2024-12-27T02:50:51.656547Z",
     "shell.execute_reply.started": "2024-12-27T02:50:51.216564Z"
    },
    "tags": []
   },
   "outputs": [
    {
     "name": "stdout",
     "output_type": "stream",
     "text": [
      "中华 女子 学院 ： 本科 层次 仅 1 专业 招 男生\n",
      "[':', '：', '———', '》），', '）÷（１－', '”，', '）、', '＝（', '→', '℃']\n"
     ]
    }
   ],
   "source": [
    "TRAIN_CORPUS = '../data/train_new.csv'\n",
    "STOP_WORDS = '../data/stopwords.txt'\n",
    "WORDS_COLUMN = 'words'\n",
    "\n",
    "content = pd.read_csv(TRAIN_CORPUS)\n",
    "corpus = content[WORDS_COLUMN].values\n",
    "\n",
    "stop_words_size = 749\n",
    "WORDS_LONG_TAIL_BEGIN = 10000\n",
    "WORDS_SIZE = WORDS_LONG_TAIL_BEGIN - stop_words_size\n",
    "\n",
    "stop_words = open(STOP_WORDS).read().split()[:stop_words_size]\n",
    "print(corpus[0])\n",
    "print(stop_words[:10])"
   ]
  },
  {
   "cell_type": "code",
   "execution_count": 3,
   "metadata": {
    "execution": {
     "iopub.execute_input": "2024-12-27T02:50:51.657869Z",
     "iopub.status.busy": "2024-12-27T02:50:51.657641Z",
     "iopub.status.idle": "2024-12-27T02:50:53.237441Z",
     "shell.execute_reply": "2024-12-27T02:50:53.236881Z",
     "shell.execute_reply.started": "2024-12-27T02:50:51.657853Z"
    }
   },
   "outputs": [
    {
     "name": "stderr",
     "output_type": "stream",
     "text": [
      "/usr/local/lib/python3.10/site-packages/sklearn/feature_extraction/text.py:406: UserWarning: Your stop_words may be inconsistent with your preprocessing. Tokenizing the stop words generated tokens ['lex', '①①', '①②', '①③', '①④', '①⑤', '①⑥', '①⑦', '①⑧', '①⑨', '①ａ', '①ｂ', '①ｃ', '①ｄ', '①ｅ', '①ｆ', '①ｇ', '①ｈ', '①ｉ', '①ｏ', '②①', '②②', '②③', '②④', '②⑤', '②⑥', '②⑦', '②⑧', '②⑩', '②ａ', '②ｂ', '②ｄ', '②ｅ', '②ｆ', '②ｇ', '②ｈ', '②ｉ', '②ｊ', '③①', '③⑩', '③ａ', '③ｂ', '③ｃ', '③ｄ', '③ｅ', '③ｆ', '③ｇ', '③ｈ', '④ａ', '④ｂ', '④ｃ', '④ｄ', '④ｅ', '⑤ａ', '⑤ｂ', '⑤ｄ', '⑤ｅ', '⑤ｆ', '１２', 'ｌｉ', 'ｚｘｆｉｔｌ'] not in stop_words.\n",
      "  warnings.warn(\n"
     ]
    },
    {
     "name": "stdout",
     "output_type": "stream",
     "text": [
      "(180000, 9251)\n"
     ]
    }
   ],
   "source": [
    "tfidf = TfidfVectorizer(max_features=WORDS_SIZE, stop_words=stop_words)\n",
    "text_vectors = tfidf.fit_transform(corpus)\n",
    "print(text_vectors.shape)"
   ]
  },
  {
   "cell_type": "code",
   "execution_count": 4,
   "metadata": {
    "execution": {
     "iopub.execute_input": "2024-12-27T02:50:53.238292Z",
     "iopub.status.busy": "2024-12-27T02:50:53.238027Z",
     "iopub.status.idle": "2024-12-27T03:07:20.463581Z",
     "shell.execute_reply": "2024-12-27T03:07:20.463114Z",
     "shell.execute_reply.started": "2024-12-27T02:50:53.238275Z"
    },
    "tags": []
   },
   "outputs": [
    {
     "name": "stdout",
     "output_type": "stream",
     "text": [
      "数据分割完毕，开始模型训练...\n",
      "模型训练结束，开始预测...\n"
     ]
    },
    {
     "name": "stderr",
     "output_type": "stream",
     "text": [
      "ic| accuracy: 0.8029111111111111\n"
     ]
    },
    {
     "data": {
      "text/plain": [
       "0.8029111111111111"
      ]
     },
     "execution_count": 4,
     "metadata": {},
     "output_type": "execute_result"
    }
   ],
   "source": [
    "targets = content['label']\n",
    "\n",
    "x_train, x_test, y_train, y_test = train_test_split(text_vectors, targets, )\n",
    "print('数据分割完毕，开始模型训练...')\n",
    "model = RandomForestClassifier()\n",
    "model.fit(x_train, y_train)\n",
    "\n",
    "print('模型训练结束，开始预测...')\n",
    "accuracy = accuracy_score(model.predict(x_test), y_test)\n",
    "ic(accuracy)"
   ]
  }
 ],
 "metadata": {
  "kernelspec": {
   "display_name": "Python 3 (ipykernel)",
   "language": "python",
   "name": "python3"
  },
  "language_info": {
   "codemirror_mode": {
    "name": "ipython",
    "version": 3
   },
   "file_extension": ".py",
   "mimetype": "text/x-python",
   "name": "python",
   "nbconvert_exporter": "python",
   "pygments_lexer": "ipython3",
   "version": "3.10.14"
  }
 },
 "nbformat": 4,
 "nbformat_minor": 4
}
