{
 "cells": [
  {
   "cell_type": "code",
   "execution_count": 1,
   "metadata": {
    "execution": {
     "iopub.execute_input": "2024-12-27T02:54:23.771030Z",
     "iopub.status.busy": "2024-12-27T02:54:23.770714Z",
     "iopub.status.idle": "2024-12-27T02:54:25.678388Z",
     "shell.execute_reply": "2024-12-27T02:54:25.677762Z",
     "shell.execute_reply.started": "2024-12-27T02:54:23.771000Z"
    }
   },
   "outputs": [],
   "source": [
    "import os\n",
    "import sys\n",
    "import jieba"
   ]
  },
  {
   "cell_type": "code",
   "execution_count": 2,
   "metadata": {
    "execution": {
     "iopub.execute_input": "2024-12-27T02:54:25.764509Z",
     "iopub.status.busy": "2024-12-27T02:54:25.679399Z",
     "iopub.status.idle": "2024-12-27T02:54:25.771245Z",
     "shell.execute_reply": "2024-12-27T02:54:25.770670Z",
     "shell.execute_reply.started": "2024-12-27T02:54:25.764439Z"
    }
   },
   "outputs": [
    {
     "name": "stdout",
     "output_type": "stream",
     "text": [
      "id_to_label: {0: 'finance', 1: 'realty', 2: 'stocks', 3: 'education', 4: 'science', 5: 'society', 6: 'politics', 7: 'sports', 8: 'game', 9: 'entertainment'}\n"
     ]
    }
   ],
   "source": [
    "id_to_label = {}\n",
    "\n",
    "idx = 0\n",
    "with open('../data/class.txt', 'r', encoding='utf-8') as f1:\n",
    "    for line in f1.readlines():\n",
    "        line = line.strip('\\n').strip()\n",
    "        id_to_label[idx] = line\n",
    "        idx += 1\n",
    "\n",
    "print('id_to_label:', id_to_label)"
   ]
  },
  {
   "cell_type": "code",
   "execution_count": 3,
   "metadata": {
    "execution": {
     "iopub.execute_input": "2024-12-27T02:54:25.772532Z",
     "iopub.status.busy": "2024-12-27T02:54:25.772117Z",
     "iopub.status.idle": "2024-12-27T02:55:58.068349Z",
     "shell.execute_reply": "2024-12-27T02:55:58.067736Z",
     "shell.execute_reply.started": "2024-12-27T02:54:25.772505Z"
    }
   },
   "outputs": [
    {
     "name": "stderr",
     "output_type": "stream",
     "text": [
      "Building prefix dict from the default dictionary ...\n",
      "Loading model from cache /tmp/jieba.cache\n",
      "Loading model cost 7.510 seconds.\n",
      "Prefix dict has been built successfully.\n"
     ]
    },
    {
     "name": "stdout",
     "output_type": "stream",
     "text": [
      "count= 10000\n",
      "count= 20000\n",
      "count= 30000\n",
      "count= 40000\n",
      "count= 50000\n",
      "count= 60000\n",
      "count= 70000\n",
      "count= 80000\n",
      "count= 90000\n",
      "count= 100000\n",
      "count= 110000\n",
      "count= 120000\n",
      "count= 130000\n",
      "count= 140000\n",
      "count= 150000\n",
      "count= 160000\n",
      "count= 170000\n",
      "count= 180000\n",
      "FastText训练数据预处理完毕!\n"
     ]
    }
   ],
   "source": [
    "count = 0\n",
    "train_data = []\n",
    "with open('../data/train.txt', 'r', encoding='utf-8') as f2:\n",
    "    for line in f2.readlines():\n",
    "        line = line.strip('\\n').strip()\n",
    "        sentence, label = line.split('\\t')\n",
    "\n",
    "        # 1: 首先处理标签部分\n",
    "        label_id = int(label)\n",
    "        label_name = id_to_label[label_id]\n",
    "        new_label = '__label__' + label_name\n",
    "\n",
    "        # 2: 然后处理文本部分, 区别于之前的按字划分, 此处按词划分文本\n",
    "        sent_char = ' '.join(jieba.lcut(sentence))\n",
    "\n",
    "        # 3: 将文本和标签组合成fasttext规定的格式\n",
    "        new_sentence = new_label + '\\t' + sent_char\n",
    "        train_data.append(new_sentence)\n",
    "\n",
    "        count += 1\n",
    "        if count % 10000 == 0:\n",
    "            print('count=', count)\n",
    "\n",
    "\n",
    "with open('../data/train_fast1.txt', 'w', encoding='utf-8') as f3:\n",
    "    for data in train_data:\n",
    "        f3.write(data + '\\n')\n",
    "\n",
    "print('FastText训练数据预处理完毕!')"
   ]
  },
  {
   "cell_type": "code",
   "execution_count": 4,
   "metadata": {
    "execution": {
     "iopub.execute_input": "2024-12-27T02:55:58.069130Z",
     "iopub.status.busy": "2024-12-27T02:55:58.068909Z",
     "iopub.status.idle": "2024-12-27T02:56:07.366570Z",
     "shell.execute_reply": "2024-12-27T02:56:07.365909Z",
     "shell.execute_reply.started": "2024-12-27T02:55:58.069107Z"
    }
   },
   "outputs": [
    {
     "name": "stdout",
     "output_type": "stream",
     "text": [
      "count= 10000\n",
      "FastText验证数据预处理完毕!\n"
     ]
    }
   ],
   "source": [
    "count = 0\n",
    "dev_data = []\n",
    "with open('../data/dev.txt', 'r', encoding='utf-8') as f2:\n",
    "    for line in f2.readlines():\n",
    "        line = line.strip('\\n').strip()\n",
    "        sentence, label = line.split('\\t')\n",
    "\n",
    "        # 1: 首先处理标签部分\n",
    "        label_id = int(label)\n",
    "        label_name = id_to_label[label_id]\n",
    "        new_label = '__label__' + label_name\n",
    "\n",
    "        # 2: 然后处理文本部分, 区别于之前的按字划分, 此处按词划分文本\n",
    "        sent_char = ' '.join(jieba.lcut(sentence))\n",
    "\n",
    "        # 3: 将文本和标签组合成fasttext规定的格式\n",
    "        new_sentence = new_label + '\\t' + sent_char\n",
    "        dev_data.append(new_sentence)\n",
    "\n",
    "        count += 1\n",
    "        if count % 10000 == 0:\n",
    "            print('count=', count)\n",
    "\n",
    "\n",
    "with open('../data/dev_fast1.txt', 'w', encoding='utf-8') as f3:\n",
    "    for data in dev_data:\n",
    "        f3.write(data + '\\n')\n",
    "\n",
    "print('FastText验证数据预处理完毕!')"
   ]
  },
  {
   "cell_type": "code",
   "execution_count": 5,
   "metadata": {
    "execution": {
     "iopub.execute_input": "2024-12-27T02:56:07.368010Z",
     "iopub.status.busy": "2024-12-27T02:56:07.367679Z",
     "iopub.status.idle": "2024-12-27T02:56:16.271329Z",
     "shell.execute_reply": "2024-12-27T02:56:16.270522Z",
     "shell.execute_reply.started": "2024-12-27T02:56:07.367985Z"
    }
   },
   "outputs": [
    {
     "name": "stdout",
     "output_type": "stream",
     "text": [
      "count= 10000\n",
      "FastText测试数据预处理完毕!\n"
     ]
    }
   ],
   "source": [
    "count = 0\n",
    "test_data = []\n",
    "with open('../data/test.txt', 'r', encoding='utf-8') as f2:\n",
    "    for line in f2.readlines():\n",
    "        line = line.strip('\\n').strip()\n",
    "        sentence, label = line.split('\\t')\n",
    "\n",
    "        # 1: 首先处理标签部分\n",
    "        label_id = int(label)\n",
    "        label_name = id_to_label[label_id]\n",
    "        new_label = '__label__' + label_name\n",
    "\n",
    "        # 2: 然后处理文本部分, 区别于之前的按字划分, 此处按词划分文本\n",
    "        sent_char = ' '.join(jieba.lcut(sentence))\n",
    "\n",
    "        # 3: 将文本和标签组合成fasttext规定的格式\n",
    "        new_sentence = new_label + '\\t' + sent_char\n",
    "        test_data.append(new_sentence)\n",
    "\n",
    "        count += 1\n",
    "        if count % 10000 == 0:\n",
    "            print('count=', count)\n",
    "\n",
    "\n",
    "with open('../data/test_fast1.txt', 'w', encoding='utf-8') as f3:\n",
    "    for data in test_data:\n",
    "        f3.write(data + '\\n')\n",
    "\n",
    "print('FastText测试数据预处理完毕!')"
   ]
  }
 ],
 "metadata": {
  "kernelspec": {
   "display_name": "Python 3 (ipykernel)",
   "language": "python",
   "name": "python3"
  },
  "language_info": {
   "codemirror_mode": {
    "name": "ipython",
    "version": 3
   },
   "file_extension": ".py",
   "mimetype": "text/x-python",
   "name": "python",
   "nbconvert_exporter": "python",
   "pygments_lexer": "ipython3",
   "version": "3.10.14"
  }
 },
 "nbformat": 4,
 "nbformat_minor": 4
}
