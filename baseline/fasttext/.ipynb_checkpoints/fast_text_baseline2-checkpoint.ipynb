{
 "cells": [
  {
   "cell_type": "code",
   "execution_count": 1,
   "metadata": {
    "ExecutionIndicator": {
     "show": false
    },
    "execution": {
     "iopub.execute_input": "2024-12-27T02:53:02.098730Z",
     "iopub.status.busy": "2024-12-27T02:53:02.098384Z",
     "iopub.status.idle": "2024-12-27T03:05:23.243830Z",
     "shell.execute_reply": "2024-12-27T03:05:23.243310Z",
     "shell.execute_reply.started": "2024-12-27T02:53:02.098710Z"
    },
    "tags": []
   },
   "outputs": [
    {
     "name": "stderr",
     "output_type": "stream",
     "text": [
      "Warning : wordNgrams is manually set to a specific value. It will not be automatically optimized.\n"
     ]
    },
    {
     "name": "stdout",
     "output_type": "stream",
     "text": [
      "Trial = 1\n",
      "epoch = 5\n",
      "lr = 0.1\n",
      "dim = 100\n",
      "minCount = 1\n",
      "wordNgrams = 2\n",
      "minn = 0\n",
      "maxn = 0\n",
      "bucket = 2000000\n",
      "dsub = 2\n",
      "loss = softmax\n"
     ]
    },
    {
     "name": "stderr",
     "output_type": "stream",
     "text": [
      "Progress:   0.5% Trials:    1 Best score:   unknown ETA:   0h 9m56s"
     ]
    },
    {
     "name": "stdout",
     "output_type": "stream",
     "text": [
      "currentScore = 0.9121\n",
      "train took = 3.51959\n",
      "Trial = 2\n",
      "epoch = 2\n",
      "lr = 0.169298\n",
      "dim = 105\n",
      "minCount = 1\n",
      "wordNgrams = 2\n",
      "minn = 0\n",
      "maxn = 0\n",
      "bucket = 10000000\n",
      "dsub = 16\n",
      "loss = softmax\n"
     ]
    },
    {
     "name": "stderr",
     "output_type": "stream",
     "text": [
      "Progress:   1.3% Trials:    2 Best score:  0.912100 ETA:   0h 9m51s"
     ]
    },
    {
     "name": "stdout",
     "output_type": "stream",
     "text": [
      "currentScore = 0.905\n",
      "train took = 4.70766\n",
      "Trial = 3\n",
      "epoch = 1\n",
      "lr = 0.463758\n",
      "dim = 52\n",
      "minCount = 1\n",
      "wordNgrams = 2\n",
      "minn = 0\n",
      "maxn = 0\n",
      "bucket = 1036295\n",
      "dsub = 2\n",
      "loss = softmax\n"
     ]
    },
    {
     "name": "stderr",
     "output_type": "stream",
     "text": [
      "Progress:   1.5% Trials:    3 Best score:  0.912100 ETA:   0h 9m50s"
     ]
    },
    {
     "name": "stdout",
     "output_type": "stream",
     "text": [
      "currentScore = 0.9008\n",
      "train took = 0.874052\n",
      "Trial = 4\n",
      "epoch = 4\n",
      "lr = 0.0527859\n",
      "dim = 33\n",
      "minCount = 1\n",
      "wordNgrams = 2\n",
      "minn = 3\n",
      "maxn = 6\n",
      "bucket = 547156\n",
      "dsub = 4\n",
      "loss = softmax\n"
     ]
    },
    {
     "name": "stderr",
     "output_type": "stream",
     "text": [
      "Progress:   1.9% Trials:    4 Best score:  0.912100 ETA:   0h 9m48s"
     ]
    },
    {
     "name": "stdout",
     "output_type": "stream",
     "text": [
      "currentScore = 0.8843\n",
      "train took = 2.50526\n",
      "Trial = 5\n",
      "epoch = 8\n",
      "lr = 0.0136315\n",
      "dim = 653\n",
      "minCount = 1\n",
      "wordNgrams = 2\n",
      "minn = 3\n",
      "maxn = 6\n",
      "bucket = 4235292\n",
      "dsub = 8\n",
      "loss = softmax\n"
     ]
    },
    {
     "name": "stderr",
     "output_type": "stream",
     "text": [
      "Progress:   6.4% Trials:    5 Best score:  0.912100 ETA:   0h 9m21s"
     ]
    },
    {
     "name": "stdout",
     "output_type": "stream",
     "text": [
      "currentScore = 0.8522\n",
      "train took = 27.3547\n",
      "Trial = 6\n",
      "epoch = 9\n",
      "lr = 0.164511\n",
      "dim = 100\n",
      "minCount = 1\n",
      "wordNgrams = 2\n",
      "minn = 0\n",
      "maxn = 0\n",
      "bucket = 156820\n",
      "dsub = 4\n",
      "loss = softmax\n"
     ]
    },
    {
     "name": "stderr",
     "output_type": "stream",
     "text": [
      "Progress:   7.5% Trials:    6 Best score:  0.912100 ETA:   0h 9m15s"
     ]
    },
    {
     "name": "stdout",
     "output_type": "stream",
     "text": [
      "currentScore = 0.9098\n",
      "train took = 5.96295\n",
      "Trial = 7\n",
      "epoch = 2\n",
      "lr = 0.888362\n",
      "dim = 30\n",
      "minCount = 1\n",
      "wordNgrams = 2\n",
      "minn = 0\n",
      "maxn = 0\n",
      "bucket = 10000000\n",
      "dsub = 2\n",
      "loss = softmax\n"
     ]
    },
    {
     "name": "stderr",
     "output_type": "stream",
     "text": [
      "Progress:   7.8% Trials:    7 Best score:  0.912100 ETA:   0h 9m13s"
     ]
    },
    {
     "name": "stdout",
     "output_type": "stream",
     "text": [
      "currentScore = 0.9123\n",
      "train took = 1.87742\n",
      "Trial = 8\n",
      "epoch = 3\n",
      "lr = 0.23899\n",
      "dim = 8\n",
      "minCount = 1\n",
      "wordNgrams = 2\n",
      "minn = 0\n",
      "maxn = 0\n",
      "bucket = 10000000\n",
      "dsub = 4\n",
      "loss = softmax\n"
     ]
    },
    {
     "name": "stderr",
     "output_type": "stream",
     "text": [
      "Progress:   8.0% Trials:    8 Best score:  0.912300 ETA:   0h 9m12s"
     ]
    },
    {
     "name": "stdout",
     "output_type": "stream",
     "text": [
      "currentScore = 0.9093\n",
      "train took = 1.09927\n",
      "Trial = 9\n",
      "epoch = 1\n",
      "lr = 2.61261\n",
      "dim = 29\n",
      "minCount = 1\n",
      "wordNgrams = 2\n",
      "minn = 0\n",
      "maxn = 0\n",
      "bucket = 2593702\n",
      "dsub = 2\n",
      "loss = softmax\n"
     ]
    },
    {
     "name": "stderr",
     "output_type": "stream",
     "text": [
      "Progress:   8.0% Trials:    9 Best score:  0.912300 ETA:   0h 9m11s"
     ]
    },
    {
     "name": "stdout",
     "output_type": "stream",
     "text": [
      "currentScore = 0.9023\n",
      "train took = 0.810313\n",
      "Trial = 10\n",
      "epoch = 1\n",
      "lr = 1.58274\n",
      "dim = 3\n",
      "minCount = 1\n",
      "wordNgrams = 2\n",
      "minn = 0\n",
      "maxn = 0\n",
      "bucket = 6772140\n",
      "dsub = 4\n",
      "loss = softmax\n"
     ]
    },
    {
     "name": "stderr",
     "output_type": "stream",
     "text": [
      "Progress:   8.2% Trials:   10 Best score:  0.912300 ETA:   0h 9m10s"
     ]
    },
    {
     "name": "stdout",
     "output_type": "stream",
     "text": [
      "currentScore = 0.8558\n",
      "train took = 0.581685\n",
      "Trial = 11\n",
      "epoch = 15\n",
      "lr = 0.0493535\n",
      "dim = 117\n",
      "minCount = 1\n",
      "wordNgrams = 2\n",
      "minn = 0\n",
      "maxn = 0\n",
      "bucket = 7955182\n",
      "dsub = 2\n",
      "loss = softmax\n"
     ]
    },
    {
     "name": "stderr",
     "output_type": "stream",
     "text": [
      "Progress:  10.7% Trials:   11 Best score:  0.912300 ETA:   0h 8m55s"
     ]
    },
    {
     "name": "stdout",
     "output_type": "stream",
     "text": [
      "currentScore = 0.9127\n",
      "train took = 15.3505\n",
      "Trial = 12\n",
      "epoch = 100\n",
      "lr = 0.0711559\n",
      "dim = 48\n",
      "minCount = 1\n",
      "wordNgrams = 2\n",
      "minn = 0\n",
      "maxn = 0\n",
      "bucket = 10000000\n",
      "dsub = 2\n",
      "loss = softmax\n"
     ]
    },
    {
     "name": "stderr",
     "output_type": "stream",
     "text": [
      "Progress:  18.5% Trials:   12 Best score:  0.912700 ETA:   0h 8m 9s"
     ]
    },
    {
     "name": "stdout",
     "output_type": "stream",
     "text": [
      "currentScore = 0.9132\n",
      "train took = 46.4719\n",
      "Trial = 13\n",
      "epoch = 45\n",
      "lr = 0.01\n",
      "dim = 127\n",
      "minCount = 1\n",
      "wordNgrams = 2\n",
      "minn = 0\n",
      "maxn = 0\n",
      "bucket = 10000000\n",
      "dsub = 4\n",
      "loss = softmax\n"
     ]
    },
    {
     "name": "stderr",
     "output_type": "stream",
     "text": [
      "Progress:  26.7% Trials:   13 Best score:  0.913200 ETA:   0h 7m19s"
     ]
    },
    {
     "name": "stdout",
     "output_type": "stream",
     "text": [
      "currentScore = 0.9105\n",
      "train took = 49.322\n",
      "Trial = 14\n",
      "epoch = 100\n",
      "lr = 0.160709\n",
      "dim = 161\n",
      "minCount = 1\n",
      "wordNgrams = 2\n",
      "minn = 0\n",
      "maxn = 0\n",
      "bucket = 10000000\n",
      "dsub = 8\n",
      "loss = softmax\n"
     ]
    },
    {
     "name": "stderr",
     "output_type": "stream",
     "text": [
      "Progress:  45.6% Trials:   14 Best score:  0.913200 ETA:   0h 5m26s"
     ]
    },
    {
     "name": "stdout",
     "output_type": "stream",
     "text": [
      "currentScore = 0.9142\n",
      "train took = 113.212\n",
      "Trial = 15\n",
      "epoch = 74\n",
      "lr = 0.0202303\n",
      "dim = 77\n",
      "minCount = 1\n",
      "wordNgrams = 2\n",
      "minn = 3\n",
      "maxn = 6\n",
      "bucket = 1586736\n",
      "dsub = 2\n",
      "loss = softmax\n"
     ]
    },
    {
     "name": "stderr",
     "output_type": "stream",
     "text": [
      "Progress:  55.3% Trials:   15 Best score:  0.914200 ETA:   0h 4m28s"
     ]
    },
    {
     "name": "stdout",
     "output_type": "stream",
     "text": [
      "currentScore = 0.9108\n",
      "train took = 58.2797\n",
      "Trial = 16\n",
      "epoch = 100\n",
      "lr = 0.124844\n",
      "dim = 204\n",
      "minCount = 1\n",
      "wordNgrams = 2\n",
      "minn = 0\n",
      "maxn = 0\n",
      "bucket = 10000000\n",
      "dsub = 2\n",
      "loss = softmax\n"
     ]
    },
    {
     "name": "stderr",
     "output_type": "stream",
     "text": [
      "Progress:  72.2% Trials:   16 Best score:  0.914200 ETA:   0h 2m46s"
     ]
    },
    {
     "name": "stdout",
     "output_type": "stream",
     "text": [
      "currentScore = 0.9134\n",
      "train took = 101.935\n",
      "Trial = 17\n",
      "epoch = 100\n",
      "lr = 0.204853\n",
      "dim = 160\n",
      "minCount = 1\n",
      "wordNgrams = 2\n",
      "minn = 0\n",
      "maxn = 0\n",
      "bucket = 5097515\n",
      "dsub = 16\n",
      "loss = softmax\n"
     ]
    },
    {
     "name": "stderr",
     "output_type": "stream",
     "text": [
      "Progress:  86.9% Trials:   17 Best score:  0.914200 ETA:   0h 1m18s"
     ]
    },
    {
     "name": "stdout",
     "output_type": "stream",
     "text": [
      "currentScore = 0.9132\n",
      "train took = 88.0881\n",
      "Trial = 18\n",
      "epoch = 29\n",
      "lr = 0.0931035\n",
      "dim = 144\n",
      "minCount = 1\n",
      "wordNgrams = 2\n",
      "minn = 0\n",
      "maxn = 0\n",
      "bucket = 5759911\n",
      "dsub = 8\n",
      "loss = softmax\n"
     ]
    },
    {
     "name": "stderr",
     "output_type": "stream",
     "text": [
      "Progress:  91.3% Trials:   18 Best score:  0.914200 ETA:   0h 0m52s"
     ]
    },
    {
     "name": "stdout",
     "output_type": "stream",
     "text": [
      "currentScore = 0.9128\n",
      "train took = 25.8917\n",
      "Trial = 19\n",
      "epoch = 61\n",
      "lr = 0.213772\n",
      "dim = 165\n",
      "minCount = 1\n",
      "wordNgrams = 2\n",
      "minn = 0\n",
      "maxn = 0\n",
      "bucket = 6326101\n",
      "dsub = 4\n",
      "loss = softmax\n"
     ]
    },
    {
     "name": "stderr",
     "output_type": "stream",
     "text": [
      "Progress: 100.0% Trials:   19 Best score:  0.914200 ETA:   0h 0m 0s\n",
      "Training again with best arguments\n",
      "Read 3M words\n",
      "Number of words:  4760\n",
      "Number of labels: 10\n"
     ]
    },
    {
     "name": "stdout",
     "output_type": "stream",
     "text": [
      "Best selected args = 0\n",
      "epoch = 100\n",
      "lr = 0.160709\n",
      "dim = 161\n",
      "minCount = 1\n",
      "wordNgrams = 2\n",
      "minn = 0\n",
      "maxn = 0\n",
      "bucket = 10000000\n",
      "dsub = 8\n",
      "loss = softmax\n"
     ]
    },
    {
     "name": "stderr",
     "output_type": "stream",
     "text": [
      "Progress: 100.0% words/sec/thread:   49980 lr:  0.000000 avg.loss:  0.016898 ETA:   0h 0m 0s  50277 lr:  0.075192 avg.loss:  0.029494 ETA:   0h 0m55s 0.018784 ETA:   0h 0m13s\n"
     ]
    },
    {
     "name": "stdout",
     "output_type": "stream",
     "text": [
      "(10000, 0.9179, 0.9179)\n"
     ]
    }
   ],
   "source": [
    "import fasttext\n",
    "import time\n",
    "\n",
    "# 数据路径设置\n",
    "train_data_path = '../data/train_fast.txt'  # 训练集数据路径\n",
    "dev_data_path = '../data/dev_fast.txt'      # 验证集数据路径，用于模型调参\n",
    "test_data_path = '../data/test_fast.txt'    # 测试集数据路径，用于评估模型性能\n",
    "\n",
    "# 训练 FastText 文本分类模型\n",
    "# autotuneValidationFile: 指定验证数据集路径，用于自动调参\n",
    "# autotuneDuration: 设置自动调参的最大时间，单位为秒\n",
    "# wordNgrams: 设置 n-gram 的值，这里为 2 表示使用 bigram 特征\n",
    "# verbose: 设置日志打印级别，当设置为 3 时，会打印详细的训练和调参日志\n",
    "model = fasttext.train_supervised(\n",
    "    input=train_data_path,              # 输入训练数据\n",
    "    autotuneValidationFile=dev_data_path,  # 使用验证数据进行超参数调节\n",
    "    autotuneDuration=600,               # 调参时间设置为 600 秒\n",
    "    wordNgrams=2,                       # 使用 bigram 特征\n",
    "    verbose=3                           # 打印详细训练日志\n",
    ")\n",
    "\n",
    "# 在测试集上评估模型的表现\n",
    "# test: 测试模型性能并返回 (precision, recall, examples) 元组\n",
    "result = model.test(test_data_path)\n",
    "print(result)  # 输出测试结果，包括准确率、召回率和测试样本数量\n",
    "\n",
    "# 模型保存\n",
    "# 使用当前时间格式化为 \"年月日时分秒\"\n",
    "time_str = time.strftime(\"%Y%m%d_%H%M%S\")\n",
    "model_save_path = f\"./toutiao_fasttext_{time_str}.bin\"  # 保存路径带有格式化时间\n",
    "model.save_model(model_save_path)  # 将模型保存为 .bin 文件\n"
   ]
  }
 ],
 "metadata": {
  "kernelspec": {
   "display_name": "Python 3 (ipykernel)",
   "language": "python",
   "name": "python3"
  },
  "language_info": {
   "codemirror_mode": {
    "name": "ipython",
    "version": 3
   },
   "file_extension": ".py",
   "mimetype": "text/x-python",
   "name": "python",
   "nbconvert_exporter": "python",
   "pygments_lexer": "ipython3",
   "version": "3.10.14"
  }
 },
 "nbformat": 4,
 "nbformat_minor": 4
}
