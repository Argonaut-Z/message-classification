{
 "cells": [
  {
   "cell_type": "code",
   "execution_count": 1,
   "metadata": {},
   "outputs": [
    {
     "name": "stdout",
     "output_type": "stream",
     "text": [
      "(10000, 0.9141, 0.9141)\n"
     ]
    }
   ],
   "source": [
    "import fasttext\n",
    "import time\n",
    "\n",
    "train_data_path = '../data/train_fast1.txt'\n",
    "dev_data_path = '../data/dev_fast1.txt'\n",
    "test_data_path = '../data/test_fast1.txt'\n",
    "\n",
    "# autotuneValidationFile参数需要指定验证数据集所在路径,\n",
    "# 它将在验证集上使用随机搜索方法寻找可能最优的超参数.\n",
    "# 使用autotuneDuration参数可以控制随机搜索的时间, 默认是300s,\n",
    "# 根据不同的需求, 我们可以延长或缩短时间.\n",
    "# verbose: 该参数决定日志打印级别, 当设置为3, 可以将当前正在尝试的超参数打印出来.\n",
    "model = fasttext.train_supervised(input=train_data_path,\n",
    "                                  autotuneValidationFile=dev_data_path,\n",
    "                                  autotuneDuration=120,\n",
    "                                  wordNgrams=2,\n",
    "                                  verbose=3)\n",
    "\n",
    "# 在测试集上评估模型的表现\n",
    "result = model.test(test_data_path)\n",
    "print(result)\n",
    "\n",
    "# 模型保存\n",
    "time1 = int(time.time())\n",
    "model_save_path = \"./toutiao_fasttext_{}.bin\".format(time1)\n",
    "model.save_model(model_save_path)"
   ]
  }
 ],
 "metadata": {
  "kernelspec": {
   "display_name": "bert_classification",
   "language": "python",
   "name": "python3"
  },
  "language_info": {
   "codemirror_mode": {
    "name": "ipython",
    "version": 3
   },
   "file_extension": ".py",
   "mimetype": "text/x-python",
   "name": "python",
   "nbconvert_exporter": "python",
   "pygments_lexer": "ipython3",
   "version": "3.10.16"
  }
 },
 "nbformat": 4,
 "nbformat_minor": 2
}
