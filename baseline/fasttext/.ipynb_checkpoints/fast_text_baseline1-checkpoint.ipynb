{
 "cells": [
  {
   "cell_type": "code",
   "execution_count": 1,
   "metadata": {
    "execution": {
     "iopub.execute_input": "2024-12-27T02:52:33.681173Z",
     "iopub.status.busy": "2024-12-27T02:52:33.680797Z",
     "iopub.status.idle": "2024-12-27T02:52:37.128429Z",
     "shell.execute_reply": "2024-12-27T02:52:37.127944Z",
     "shell.execute_reply.started": "2024-12-27T02:52:33.681146Z"
    },
    "tags": []
   },
   "outputs": [
    {
     "name": "stderr",
     "output_type": "stream",
     "text": [
      "Read 3M words\n",
      "Number of words:  4760\n",
      "Number of labels: 10\n",
      "Progress:  96.4% words/sec/thread:  127822 lr:  0.003614 avg.loss:  0.398935 ETA:   0h 0m 0s"
     ]
    },
    {
     "name": "stdout",
     "output_type": "stream",
     "text": [
      "(10000, 0.9157, 0.9157)\n"
     ]
    },
    {
     "name": "stderr",
     "output_type": "stream",
     "text": [
      "Progress: 100.0% words/sec/thread:  121702 lr:  0.000000 avg.loss:  0.391975 ETA:   0h 0m 0s\n"
     ]
    }
   ],
   "source": [
    "import fasttext\n",
    "\n",
    "train_data_path = '../data/train_fast.txt'\n",
    "test_data_path = '../data/test_fast.txt'\n",
    "\n",
    "# 开启模型训练\n",
    "model = fasttext.train_supervised(input=train_data_path, wordNgrams=2)\n",
    "\n",
    "# 开启模型测试\n",
    "result = model.test(test_data_path)\n",
    "print(result)"
   ]
  },
  {
   "cell_type": "code",
   "execution_count": null,
   "metadata": {},
   "outputs": [],
   "source": []
  }
 ],
 "metadata": {
  "kernelspec": {
   "display_name": "Python 3 (ipykernel)",
   "language": "python",
   "name": "python3"
  },
  "language_info": {
   "codemirror_mode": {
    "name": "ipython",
    "version": 3
   },
   "file_extension": ".py",
   "mimetype": "text/x-python",
   "name": "python",
   "nbconvert_exporter": "python",
   "pygments_lexer": "ipython3",
   "version": "3.10.14"
  }
 },
 "nbformat": 4,
 "nbformat_minor": 4
}
