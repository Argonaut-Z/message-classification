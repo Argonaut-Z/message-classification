{
 "cells": [
  {
   "cell_type": "code",
   "execution_count": 1,
   "metadata": {
    "execution": {
     "iopub.execute_input": "2024-12-27T02:51:56.524052Z",
     "iopub.status.busy": "2024-12-27T02:51:56.523746Z",
     "iopub.status.idle": "2024-12-27T02:51:56.643410Z",
     "shell.execute_reply": "2024-12-27T02:51:56.642947Z",
     "shell.execute_reply.started": "2024-12-27T02:51:56.524032Z"
    }
   },
   "outputs": [
    {
     "name": "stdout",
     "output_type": "stream",
     "text": [
      "id_to_label: {0: 'finance', 1: 'realty', 2: 'stocks', 3: 'education', 4: 'science', 5: 'society', 6: 'politics', 7: 'sports', 8: 'game', 9: 'entertainment'}\n"
     ]
    }
   ],
   "source": [
    "import os\n",
    "import sys\n",
    "import jieba\n",
    "\n",
    "id_to_label = {}\n",
    "\n",
    "idx = 0\n",
    "with open('../data/class.txt', 'r', encoding='utf-8') as f1:\n",
    "    for line in f1.readlines():\n",
    "        line = line.strip('\\n').strip()\n",
    "        id_to_label[idx] = line\n",
    "        idx += 1\n",
    "print('id_to_label:', id_to_label)"
   ]
  },
  {
   "cell_type": "code",
   "execution_count": 2,
   "metadata": {
    "execution": {
     "iopub.execute_input": "2024-12-27T02:51:56.644372Z",
     "iopub.status.busy": "2024-12-27T02:51:56.644149Z",
     "iopub.status.idle": "2024-12-27T02:51:56.704037Z",
     "shell.execute_reply": "2024-12-27T02:51:56.703595Z",
     "shell.execute_reply.started": "2024-12-27T02:51:56.644355Z"
    }
   },
   "outputs": [
    {
     "name": "stdout",
     "output_type": "stream",
     "text": [
      "中华女子学院：本科层次仅1专业招男生\n",
      "3\n",
      "中 华 女 子 学 院 ： 本 科 层 次 仅 1 专 业 招 男 生\n"
     ]
    }
   ],
   "source": [
    "with open('../data/train.txt', 'r', encoding='utf-8') as f:\n",
    "    for line in f.readlines():\n",
    "        line = line.strip('\\n').strip()\n",
    "        sentence, label = line.split('\\t')\n",
    "        print(sentence)\n",
    "        print(label)\n",
    "        sent_char = ' '.join(list(sentence))\n",
    "        print(sent_char)\n",
    "        break"
   ]
  },
  {
   "cell_type": "code",
   "execution_count": 3,
   "metadata": {
    "execution": {
     "iopub.execute_input": "2024-12-27T02:51:56.704781Z",
     "iopub.status.busy": "2024-12-27T02:51:56.704571Z",
     "iopub.status.idle": "2024-12-27T02:51:57.379026Z",
     "shell.execute_reply": "2024-12-27T02:51:57.378352Z",
     "shell.execute_reply.started": "2024-12-27T02:51:56.704765Z"
    }
   },
   "outputs": [
    {
     "name": "stdout",
     "output_type": "stream",
     "text": [
      "count= 10000\n",
      "count= 20000\n",
      "count= 30000\n",
      "count= 40000\n",
      "count= 50000\n",
      "count= 60000\n",
      "count= 70000\n",
      "count= 80000\n",
      "count= 90000\n",
      "count= 100000\n",
      "count= 110000\n",
      "count= 120000\n",
      "count= 130000\n",
      "count= 140000\n",
      "count= 150000\n",
      "count= 160000\n",
      "count= 170000\n",
      "count= 180000\n",
      "FastText训练数据预处理完毕\n"
     ]
    }
   ],
   "source": [
    "count = 0\n",
    "train_data = []\n",
    "with open('../data/train.txt', 'r', encoding='utf-8') as f2:\n",
    "    for line in f2.readlines():\n",
    "        line = line.strip('\\n').strip()\n",
    "        sentence, label = line.split('\\t')\n",
    "        \n",
    "        # 1.首先处理标签部分\n",
    "        label_id = int(label)\n",
    "        label_name = id_to_label[label_id]\n",
    "        new_label = '__label__' + label_name\n",
    "        \n",
    "        # 2.然后处理文本部分，为了便于后续增加n-gram特性，可以按照字划分，也可以按词划分\n",
    "        sent_char = ' '.join(list(sentence))\n",
    "        \n",
    "        # 3.将文本和标签组合成fasttext规定的格式\n",
    "        new_sentence = new_label + ' ' + sent_char\n",
    "        train_data.append(new_sentence)\n",
    "        \n",
    "        count += 1\n",
    "        if count % 10000 == 0:\n",
    "            print('count=', count)\n",
    "\n",
    "with open('../data/train_fast.txt', 'w', encoding='utf-8') as f3:\n",
    "    for data in train_data:\n",
    "        f3.write(data + '\\n')\n",
    "print('FastText训练数据预处理完毕')        "
   ]
  },
  {
   "cell_type": "code",
   "execution_count": 4,
   "metadata": {
    "execution": {
     "iopub.execute_input": "2024-12-27T02:51:57.380404Z",
     "iopub.status.busy": "2024-12-27T02:51:57.380092Z",
     "iopub.status.idle": "2024-12-27T02:51:57.445259Z",
     "shell.execute_reply": "2024-12-27T02:51:57.444803Z",
     "shell.execute_reply.started": "2024-12-27T02:51:57.380383Z"
    }
   },
   "outputs": [
    {
     "name": "stdout",
     "output_type": "stream",
     "text": [
      "count= 10000\n",
      "FastText测试数据预处理完毕\n"
     ]
    }
   ],
   "source": [
    "count = 0\n",
    "test_data = []\n",
    "with open('../data/test.txt', 'r', encoding='utf-8') as f:\n",
    "    for line in f.readlines():\n",
    "        line = line.strip('\\n').strip()\n",
    "        sentence, label = line.split('\\t')\n",
    "        \n",
    "        # 1.首先处理标签部分\n",
    "        label_id = int(label)\n",
    "        label_name = id_to_label[label_id]\n",
    "        new_label = '__label__' + label_name\n",
    "        \n",
    "        # 2.然后处理文本部分，为了便于后续增加n-gram特性，可以按照字划分，也可以按词划分\n",
    "        sent_char = ' '.join(list(sentence))\n",
    "        \n",
    "        # 3.将文本和标签组合成fasttext规定的格式\n",
    "        new_sentence = new_label + ' ' + sent_char\n",
    "        test_data.append(new_sentence)\n",
    "        \n",
    "        count += 1\n",
    "        if count % 10000 == 0:\n",
    "            print('count=', count)\n",
    "\n",
    "with open('../data/test_fast.txt', 'w', encoding='utf-8') as f:\n",
    "    for data in test_data:\n",
    "        f.write(data + '\\n')\n",
    "print('FastText测试数据预处理完毕')    "
   ]
  },
  {
   "cell_type": "code",
   "execution_count": 5,
   "metadata": {
    "execution": {
     "iopub.execute_input": "2024-12-27T02:51:57.446059Z",
     "iopub.status.busy": "2024-12-27T02:51:57.445825Z",
     "iopub.status.idle": "2024-12-27T02:51:57.523539Z",
     "shell.execute_reply": "2024-12-27T02:51:57.523031Z",
     "shell.execute_reply.started": "2024-12-27T02:51:57.446042Z"
    },
    "tags": []
   },
   "outputs": [
    {
     "name": "stdout",
     "output_type": "stream",
     "text": [
      "count= 10000\n",
      "FastText验证数据预处理完毕\n"
     ]
    }
   ],
   "source": [
    "count = 0\n",
    "dev_data = []\n",
    "with open('../data/dev.txt', 'r', encoding='utf-8') as f:\n",
    "    for line in f.readlines():\n",
    "        line = line.strip('\\n').strip()\n",
    "        sentence, label = line.split('\\t')\n",
    "        \n",
    "        # 1.首先处理标签部分\n",
    "        label_id = int(label)\n",
    "        label_name = id_to_label[label_id]\n",
    "        new_label = '__label__' + label_name\n",
    "        \n",
    "        # 2.然后处理文本部分，为了便于后续增加n-gram特性，可以按照字划分，也可以按词划分\n",
    "        sent_char = ' '.join(list(sentence))\n",
    "        \n",
    "        # 3.将文本和标签组合成fasttext规定的格式\n",
    "        new_sentence = new_label + ' ' + sent_char\n",
    "        dev_data.append(new_sentence)\n",
    "        \n",
    "        count += 1\n",
    "        if count % 10000 == 0:\n",
    "            print('count=', count)\n",
    "\n",
    "with open('../data/dev_fast.txt', 'w', encoding='utf-8') as f:\n",
    "    for data in dev_data:\n",
    "        f.write(data + '\\n')\n",
    "print('FastText验证数据预处理完毕')  "
   ]
  }
 ],
 "metadata": {
  "kernelspec": {
   "display_name": "Python 3 (ipykernel)",
   "language": "python",
   "name": "python3"
  },
  "language_info": {
   "codemirror_mode": {
    "name": "ipython",
    "version": 3
   },
   "file_extension": ".py",
   "mimetype": "text/x-python",
   "name": "python",
   "nbconvert_exporter": "python",
   "pygments_lexer": "ipython3",
   "version": "3.10.14"
  }
 },
 "nbformat": 4,
 "nbformat_minor": 4
}
