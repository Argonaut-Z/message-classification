{
 "cells": [
  {
   "cell_type": "code",
   "execution_count": 1,
   "metadata": {
    "ExecutionIndicator": {
     "show": true
    },
    "execution": {
     "iopub.execute_input": "2024-12-27T03:08:50.182777Z",
     "iopub.status.busy": "2024-12-27T03:08:50.182472Z",
     "iopub.status.idle": "2024-12-27T03:19:05.724217Z",
     "shell.execute_reply": "2024-12-27T03:19:05.723711Z",
     "shell.execute_reply.started": "2024-12-27T03:08:50.182758Z"
    },
    "tags": []
   },
   "outputs": [
    {
     "name": "stderr",
     "output_type": "stream",
     "text": [
      "Warning : wordNgrams is manually set to a specific value. It will not be automatically optimized.\n"
     ]
    },
    {
     "name": "stdout",
     "output_type": "stream",
     "text": [
      "Trial = 1\n",
      "epoch = 5\n",
      "lr = 0.1\n",
      "dim = 100\n",
      "minCount = 1\n",
      "wordNgrams = 2\n",
      "minn = 0\n",
      "maxn = 0\n",
      "bucket = 2000000\n",
      "dsub = 2\n",
      "loss = softmax\n"
     ]
    },
    {
     "name": "stderr",
     "output_type": "stream",
     "text": [
      "Progress:   0.5% Trials:    1 Best score:   unknown ETA:   0h 9m56s"
     ]
    },
    {
     "name": "stdout",
     "output_type": "stream",
     "text": [
      "currentScore = 0.9019\n",
      "train took = 3.42143\n",
      "Trial = 2\n",
      "epoch = 2\n",
      "lr = 0.169298\n",
      "dim = 105\n",
      "minCount = 1\n",
      "wordNgrams = 2\n",
      "minn = 0\n",
      "maxn = 0\n",
      "bucket = 10000000\n",
      "dsub = 16\n",
      "loss = softmax\n"
     ]
    },
    {
     "name": "stderr",
     "output_type": "stream",
     "text": [
      "Progress:   1.3% Trials:    2 Best score:  0.901900 ETA:   0h 9m52s"
     ]
    },
    {
     "name": "stdout",
     "output_type": "stream",
     "text": [
      "currentScore = 0.9019\n",
      "train took = 4.51712\n",
      "Trial = 3\n",
      "epoch = 1\n",
      "lr = 0.463758\n",
      "dim = 52\n",
      "minCount = 1\n",
      "wordNgrams = 2\n",
      "minn = 0\n",
      "maxn = 0\n",
      "bucket = 1036295\n",
      "dsub = 2\n",
      "loss = softmax\n"
     ]
    },
    {
     "name": "stderr",
     "output_type": "stream",
     "text": [
      "Progress:   1.4% Trials:    3 Best score:  0.901900 ETA:   0h 9m51s"
     ]
    },
    {
     "name": "stdout",
     "output_type": "stream",
     "text": [
      "currentScore = 0.8957\n",
      "train took = 0.974225\n",
      "Trial = 4\n",
      "epoch = 4\n",
      "lr = 0.0527859\n",
      "dim = 33\n",
      "minCount = 1\n",
      "wordNgrams = 2\n",
      "minn = 3\n",
      "maxn = 6\n",
      "bucket = 547156\n",
      "dsub = 4\n",
      "loss = softmax\n"
     ]
    },
    {
     "name": "stderr",
     "output_type": "stream",
     "text": [
      "Progress:   1.9% Trials:    4 Best score:  0.901900 ETA:   0h 9m48s"
     ]
    },
    {
     "name": "stdout",
     "output_type": "stream",
     "text": [
      "currentScore = 0.8931\n",
      "train took = 2.71872\n",
      "Trial = 5\n",
      "epoch = 8\n",
      "lr = 0.0136315\n",
      "dim = 653\n",
      "minCount = 1\n",
      "wordNgrams = 2\n",
      "minn = 3\n",
      "maxn = 6\n",
      "bucket = 4235292\n",
      "dsub = 8\n",
      "loss = softmax\n"
     ]
    },
    {
     "name": "stderr",
     "output_type": "stream",
     "text": [
      "Progress:   6.4% Trials:    5 Best score:  0.901900 ETA:   0h 9m21s"
     ]
    },
    {
     "name": "stdout",
     "output_type": "stream",
     "text": [
      "currentScore = 0.8393\n",
      "train took = 26.5815\n",
      "Trial = 6\n",
      "epoch = 9\n",
      "lr = 0.164511\n",
      "dim = 100\n",
      "minCount = 1\n",
      "wordNgrams = 2\n",
      "minn = 0\n",
      "maxn = 0\n",
      "bucket = 156820\n",
      "dsub = 4\n",
      "loss = softmax\n"
     ]
    },
    {
     "name": "stderr",
     "output_type": "stream",
     "text": [
      "Progress:   7.2% Trials:    6 Best score:  0.901900 ETA:   0h 9m16s"
     ]
    },
    {
     "name": "stdout",
     "output_type": "stream",
     "text": [
      "currentScore = 0.9033\n",
      "train took = 5.11865\n",
      "Trial = 7\n",
      "epoch = 4\n",
      "lr = 1.46146\n",
      "dim = 30\n",
      "minCount = 1\n",
      "wordNgrams = 2\n",
      "minn = 0\n",
      "maxn = 0\n",
      "bucket = 1055235\n",
      "dsub = 2\n",
      "loss = softmax\n"
     ]
    },
    {
     "name": "stderr",
     "output_type": "stream",
     "text": [
      "Progress:   7.5% Trials:    7 Best score:  0.903300 ETA:   0h 9m14s"
     ]
    },
    {
     "name": "stdout",
     "output_type": "stream",
     "text": [
      "currentScore = 0.9026\n",
      "train took = 2.17621\n",
      "Trial = 8\n",
      "epoch = 14\n",
      "lr = 0.0442574\n",
      "dim = 27\n",
      "minCount = 1\n",
      "wordNgrams = 2\n",
      "minn = 0\n",
      "maxn = 0\n",
      "bucket = 679758\n",
      "dsub = 8\n",
      "loss = softmax\n"
     ]
    },
    {
     "name": "stderr",
     "output_type": "stream",
     "text": [
      "Progress:   8.8% Trials:    8 Best score:  0.903300 ETA:   0h 9m 7s"
     ]
    },
    {
     "name": "stdout",
     "output_type": "stream",
     "text": [
      "currentScore = 0.9025\n",
      "train took = 7.20103\n",
      "Trial = 9\n",
      "epoch = 7\n",
      "lr = 0.483817\n",
      "dim = 97\n",
      "minCount = 1\n",
      "wordNgrams = 2\n",
      "minn = 0\n",
      "maxn = 0\n",
      "bucket = 40674\n",
      "dsub = 2\n",
      "loss = softmax\n"
     ]
    },
    {
     "name": "stderr",
     "output_type": "stream",
     "text": [
      "Progress:   9.7% Trials:    9 Best score:  0.903300 ETA:   0h 9m 1s"
     ]
    },
    {
     "name": "stdout",
     "output_type": "stream",
     "text": [
      "currentScore = 0.8927\n",
      "train took = 5.81208\n",
      "Trial = 10\n",
      "epoch = 4\n",
      "lr = 0.2931\n",
      "dim = 11\n",
      "minCount = 1\n",
      "wordNgrams = 2\n",
      "minn = 0\n",
      "maxn = 0\n",
      "bucket = 106200\n",
      "dsub = 8\n",
      "loss = softmax\n"
     ]
    },
    {
     "name": "stderr",
     "output_type": "stream",
     "text": [
      "Progress:  10.0% Trials:   10 Best score:  0.903300 ETA:   0h 9m 0s"
     ]
    },
    {
     "name": "stdout",
     "output_type": "stream",
     "text": [
      "currentScore = 0.8989\n",
      "train took = 1.48471\n",
      "Trial = 11\n",
      "epoch = 71\n",
      "lr = 0.01\n",
      "dim = 391\n",
      "minCount = 1\n",
      "wordNgrams = 2\n",
      "minn = 0\n",
      "maxn = 0\n",
      "bucket = 124753\n",
      "dsub = 4\n",
      "loss = softmax\n"
     ]
    },
    {
     "name": "stderr",
     "output_type": "stream",
     "text": [
      "Progress:  28.6% Trials:   11 Best score:  0.903300 ETA:   0h 7m 8s"
     ]
    },
    {
     "name": "stdout",
     "output_type": "stream",
     "text": [
      "currentScore = 0.8998\n",
      "train took = 111.692\n",
      "Trial = 12\n",
      "epoch = 100\n",
      "lr = 0.234248\n",
      "dim = 43\n",
      "minCount = 1\n",
      "wordNgrams = 2\n",
      "minn = 0\n",
      "maxn = 0\n",
      "bucket = 1248893\n",
      "dsub = 2\n",
      "loss = softmax\n"
     ]
    },
    {
     "name": "stderr",
     "output_type": "stream",
     "text": [
      "Progress:  39.2% Trials:   12 Best score:  0.903300 ETA:   0h 6m 4s"
     ]
    },
    {
     "name": "stdout",
     "output_type": "stream",
     "text": [
      "currentScore = 0.9047\n",
      "train took = 63.6252\n",
      "Trial = 13\n",
      "epoch = 46\n",
      "lr = 0.0427243\n",
      "dim = 92\n",
      "minCount = 1\n",
      "wordNgrams = 2\n",
      "minn = 0\n",
      "maxn = 0\n",
      "bucket = 7631394\n",
      "dsub = 2\n",
      "loss = softmax\n"
     ]
    },
    {
     "name": "stderr",
     "output_type": "stream",
     "text": [
      "Progress:  43.3% Trials:   13 Best score:  0.904700 ETA:   0h 5m40s"
     ]
    },
    {
     "name": "stdout",
     "output_type": "stream",
     "text": [
      "currentScore = 0.9044\n",
      "train took = 24.9126\n",
      "Trial = 14\n",
      "epoch = 100\n",
      "lr = 0.464349\n",
      "dim = 104\n",
      "minCount = 1\n",
      "wordNgrams = 2\n",
      "minn = 0\n",
      "maxn = 0\n",
      "bucket = 10000000\n",
      "dsub = 8\n",
      "loss = softmax\n"
     ]
    },
    {
     "name": "stderr",
     "output_type": "stream",
     "text": [
      "Progress:  53.8% Trials:   14 Best score:  0.904700 ETA:   0h 4m36s"
     ]
    },
    {
     "name": "stdout",
     "output_type": "stream",
     "text": [
      "currentScore = 0.9063\n",
      "train took = 62.9092\n",
      "Trial = 15\n",
      "epoch = 75\n",
      "lr = 0.0715385\n",
      "dim = 57\n",
      "minCount = 1\n",
      "wordNgrams = 2\n",
      "minn = 3\n",
      "maxn = 6\n",
      "bucket = 1727504\n",
      "dsub = 2\n",
      "loss = softmax\n"
     ]
    },
    {
     "name": "stderr",
     "output_type": "stream",
     "text": [
      "Progress:  62.9% Trials:   15 Best score:  0.906300 ETA:   0h 3m42s"
     ]
    },
    {
     "name": "stdout",
     "output_type": "stream",
     "text": [
      "currentScore = 0.9103\n",
      "train took = 54.9004\n",
      "Trial = 16\n",
      "epoch = 100\n",
      "lr = 0.0570245\n",
      "dim = 68\n",
      "minCount = 1\n",
      "wordNgrams = 2\n",
      "minn = 3\n",
      "maxn = 6\n",
      "bucket = 4966613\n",
      "dsub = 2\n",
      "loss = softmax\n"
     ]
    },
    {
     "name": "stderr",
     "output_type": "stream",
     "text": [
      "Progress:  71.7% Trials:   16 Best score:  0.910300 ETA:   0h 2m49s"
     ]
    },
    {
     "name": "stdout",
     "output_type": "stream",
     "text": [
      "currentScore = 0.9106\n",
      "train took = 52.4131\n",
      "Trial = 17\n",
      "epoch = 100\n",
      "lr = 0.0728394\n",
      "dim = 67\n",
      "minCount = 1\n",
      "wordNgrams = 2\n",
      "minn = 3\n",
      "maxn = 6\n",
      "bucket = 2526165\n",
      "dsub = 4\n",
      "loss = softmax\n"
     ]
    },
    {
     "name": "stderr",
     "output_type": "stream",
     "text": [
      "Progress:  85.6% Trials:   17 Best score:  0.910600 ETA:   0h 1m26s"
     ]
    },
    {
     "name": "stdout",
     "output_type": "stream",
     "text": [
      "currentScore = 0.9106\n",
      "train took = 83.4939\n",
      "Trial = 18\n",
      "epoch = 29\n",
      "lr = 0.033036\n",
      "dim = 61\n",
      "minCount = 1\n",
      "wordNgrams = 2\n",
      "minn = 3\n",
      "maxn = 6\n",
      "bucket = 2860725\n",
      "dsub = 2\n",
      "loss = softmax\n"
     ]
    },
    {
     "name": "stderr",
     "output_type": "stream",
     "text": [
      "Progress:  89.3% Trials:   18 Best score:  0.910600 ETA:   0h 1m 4s"
     ]
    },
    {
     "name": "stdout",
     "output_type": "stream",
     "text": [
      "currentScore = 0.9107\n",
      "train took = 22.0019\n",
      "Trial = 19\n",
      "epoch = 17\n",
      "lr = 0.0439439\n",
      "dim = 62\n",
      "minCount = 1\n",
      "wordNgrams = 2\n",
      "minn = 2\n",
      "maxn = 5\n",
      "bucket = 1809723\n",
      "dsub = 2\n",
      "loss = softmax\n"
     ]
    },
    {
     "name": "stderr",
     "output_type": "stream",
     "text": [
      "Progress:  91.5% Trials:   19 Best score:  0.910700 ETA:   0h 0m51s"
     ]
    },
    {
     "name": "stdout",
     "output_type": "stream",
     "text": [
      "currentScore = 0.9134\n",
      "train took = 13.0122\n",
      "Trial = 20\n",
      "epoch = 2\n",
      "lr = 0.053631\n",
      "dim = 55\n",
      "minCount = 1\n",
      "wordNgrams = 2\n",
      "minn = 0\n",
      "maxn = 0\n",
      "bucket = 829510\n",
      "dsub = 2\n",
      "loss = softmax\n"
     ]
    },
    {
     "name": "stderr",
     "output_type": "stream",
     "text": [
      "Progress:  91.7% Trials:   20 Best score:  0.913400 ETA:   0h 0m49s"
     ]
    },
    {
     "name": "stdout",
     "output_type": "stream",
     "text": [
      "currentScore = 0.8583\n",
      "train took = 1.64759\n",
      "Trial = 21\n",
      "epoch = 100\n",
      "lr = 0.0643405\n",
      "dim = 54\n",
      "minCount = 1\n",
      "wordNgrams = 2\n",
      "minn = 0\n",
      "maxn = 0\n",
      "bucket = 3061315\n",
      "dsub = 2\n",
      "loss = softmax\n"
     ]
    },
    {
     "name": "stderr",
     "output_type": "stream",
     "text": [
      "Progress: 100.0% Trials:   21 Best score:  0.913400 ETA:   0h 0m 0s\n",
      "Training again with best arguments\n"
     ]
    },
    {
     "name": "stdout",
     "output_type": "stream",
     "text": [
      "Best selected args = 0\n",
      "epoch = 17\n",
      "lr = 0.0439439\n",
      "dim = 62\n",
      "minCount = 1\n",
      "wordNgrams = 2\n",
      "minn = 2\n",
      "maxn = 5\n",
      "bucket = 1809723\n",
      "dsub = 2\n",
      "loss = softmax\n"
     ]
    },
    {
     "name": "stderr",
     "output_type": "stream",
     "text": [
      "Read 2M words\n",
      "Number of words:  118456\n",
      "Number of labels: 10\n",
      "Progress:  99.4% words/sec/thread:   43137 lr:  0.000249 avg.loss:  0.298942 ETA:   0h 0m 0s"
     ]
    },
    {
     "name": "stdout",
     "output_type": "stream",
     "text": [
      "(10000, 0.9204, 0.9204)\n"
     ]
    },
    {
     "name": "stderr",
     "output_type": "stream",
     "text": [
      "Progress: 100.0% words/sec/thread:   43054 lr:  0.000000 avg.loss:  0.297841 ETA:   0h 0m 0s\n"
     ]
    }
   ],
   "source": [
    "import fasttext\n",
    "import time\n",
    "\n",
    "train_data_path = '../data/train_fast1.txt'\n",
    "dev_data_path = '../data/dev_fast1.txt'\n",
    "test_data_path = '../data/test_fast1.txt'\n",
    "\n",
    "# autotuneValidationFile参数需要指定验证数据集所在路径,\n",
    "# 它将在验证集上使用随机搜索方法寻找可能最优的超参数.\n",
    "# 使用autotuneDuration参数可以控制随机搜索的时间, 默认是300s,\n",
    "# 根据不同的需求, 我们可以延长或缩短时间.\n",
    "# verbose: 该参数决定日志打印级别, 当设置为3, 可以将当前正在尝试的超参数打印出来.\n",
    "model = fasttext.train_supervised(input=train_data_path,\n",
    "                                  autotuneValidationFile=dev_data_path,\n",
    "                                  autotuneDuration=600,\n",
    "                                  wordNgrams=2,\n",
    "                                  verbose=3)\n",
    "\n",
    "# 在测试集上评估模型的表现\n",
    "result = model.test(test_data_path)\n",
    "print(result)\n",
    "\n",
    "# 模型保存\n",
    "# 使用当前时间格式化为 \"年月日时分秒\"\n",
    "time_str = time.strftime(\"%Y%m%d_%H%M%S\")\n",
    "model_save_path = f\"./toutiao_fasttext_{time_str}.bin\"  # 保存路径带有格式化时间\n",
    "model.save_model(model_save_path)"
   ]
  }
 ],
 "metadata": {
  "kernelspec": {
   "display_name": "Python 3 (ipykernel)",
   "language": "python",
   "name": "python3"
  },
  "language_info": {
   "codemirror_mode": {
    "name": "ipython",
    "version": 3
   },
   "file_extension": ".py",
   "mimetype": "text/x-python",
   "name": "python",
   "nbconvert_exporter": "python",
   "pygments_lexer": "ipython3",
   "version": "3.10.14"
  }
 },
 "nbformat": 4,
 "nbformat_minor": 4
}
